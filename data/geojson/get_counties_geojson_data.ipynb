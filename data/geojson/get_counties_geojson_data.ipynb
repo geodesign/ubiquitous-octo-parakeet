{
 "cells": [
  {
   "cell_type": "code",
   "execution_count": 1,
   "metadata": {},
   "outputs": [],
   "source": [
    "url = 'https://eric.clst.org/assets/wiki/uploads/Stuff/gz_2010_us_050_00_500k.json'"
   ]
  },
  {
   "cell_type": "code",
   "execution_count": 2,
   "metadata": {},
   "outputs": [
    {
     "name": "stdout",
     "output_type": "stream",
     "text": [
      "--2019-06-10 22:44:31--  https://eric.clst.org/assets/wiki/uploads/Stuff/gz_2010_us_050_00_500k.json\n",
      "Resolving eric.clst.org (eric.clst.org)... 162.144.177.108\n",
      "Connecting to eric.clst.org (eric.clst.org)|162.144.177.108|:443... connected.\n",
      "HTTP request sent, awaiting response... 200 OK\n",
      "Length: 23543838 (22M) [application/json]\n",
      "Saving to: ‘gz_2010_us_050_00_500k.json’\n",
      "\n",
      "gz_2010_us_050_00_5 100%[===================>]  22.45M  31.2MB/s    in 0.7s    \n",
      "\n",
      "2019-06-10 22:44:32 (31.2 MB/s) - ‘gz_2010_us_050_00_500k.json’ saved [23543838/23543838]\n",
      "\n"
     ]
    }
   ],
   "source": [
    "!wget {url}"
   ]
  },
  {
   "cell_type": "code",
   "execution_count": 3,
   "metadata": {},
   "outputs": [],
   "source": [
    "!mv gz_2010_us_050_00_500k.json counties.json"
   ]
  },
  {
   "cell_type": "code",
   "execution_count": null,
   "metadata": {},
   "outputs": [],
   "source": []
  }
 ],
 "metadata": {
  "kernelspec": {
   "display_name": "Python 3",
   "language": "python",
   "name": "python3"
  },
  "language_info": {
   "codemirror_mode": {
    "name": "ipython",
    "version": 3
   },
   "file_extension": ".py",
   "mimetype": "text/x-python",
   "name": "python",
   "nbconvert_exporter": "python",
   "pygments_lexer": "ipython3",
   "version": "3.6.7"
  },
  "varInspector": {
   "cols": {
    "lenName": 16,
    "lenType": 16,
    "lenVar": 40
   },
   "kernels_config": {
    "python": {
     "delete_cmd_postfix": "",
     "delete_cmd_prefix": "del ",
     "library": "var_list.py",
     "varRefreshCmd": "print(var_dic_list())"
    },
    "r": {
     "delete_cmd_postfix": ") ",
     "delete_cmd_prefix": "rm(",
     "library": "var_list.r",
     "varRefreshCmd": "cat(var_dic_list()) "
    }
   },
   "types_to_exclude": [
    "module",
    "function",
    "builtin_function_or_method",
    "instance",
    "_Feature"
   ],
   "window_display": false
  }
 },
 "nbformat": 4,
 "nbformat_minor": 2
}
